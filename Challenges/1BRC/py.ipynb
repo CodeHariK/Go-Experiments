{
 "cells": [
  {
   "cell_type": "code",
   "execution_count": 7,
   "metadata": {},
   "outputs": [
    {
     "name": "stdout",
     "output_type": "stream",
     "text": [
      "Average, Minimum, and Maximum Temperature per City:\n",
      "                    mean   min   max\n",
      "City                                \n",
      "Abha           17.928132 -24.9  54.2\n",
      "Abidjan        25.961819 -13.6  64.7\n",
      "Abéché         29.322914 -10.6  69.3\n",
      "Accra          26.389329 -13.6  65.4\n",
      "Addis Ababa    15.864760 -19.8  60.2\n",
      "...                  ...   ...   ...\n",
      "Zagreb         10.669550 -30.1  54.0\n",
      "Zanzibar City  26.039565 -15.1  65.4\n",
      "Zürich          9.277042 -33.1  50.3\n",
      "Ürümqi          7.367059 -30.2  48.3\n",
      "İzmir          17.803720 -22.4  59.8\n",
      "\n",
      "[413 rows x 3 columns]\n"
     ]
    }
   ],
   "source": [
    "import pandas as pd\n",
    "\n",
    "# Read the CSV file\n",
    "df = pd.read_csv('measurements.txt', sep=';', names=['City', 'Temperature'])\n",
    "\n",
    "# Group by city and calculate average, minimum, and maximum temperature\n",
    "city_stats = df.groupby('City')['Temperature'].agg(['mean', 'min', 'max'])\n",
    "\n",
    "print(\"Average, Minimum, and Maximum Temperature per City:\")\n",
    "print(city_stats)\n"
   ]
  }
 ],
 "metadata": {
  "kernelspec": {
   "display_name": "Python 3",
   "language": "python",
   "name": "python3"
  },
  "language_info": {
   "codemirror_mode": {
    "name": "ipython",
    "version": 3
   },
   "file_extension": ".py",
   "mimetype": "text/x-python",
   "name": "python",
   "nbconvert_exporter": "python",
   "pygments_lexer": "ipython3",
   "version": "3.12.2"
  }
 },
 "nbformat": 4,
 "nbformat_minor": 2
}
