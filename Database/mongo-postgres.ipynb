{
 "cells": [
  {
   "cell_type": "markdown",
   "metadata": {
    "application/vnd.databricks.v1+cell": {
     "cellMetadata": {},
     "inputWidgets": {},
     "nuid": "84c71e3a-789a-4e5e-b28c-fd76f7709827",
     "showTitle": false,
     "title": ""
    }
   },
   "source": [
    "https://pymongo.readthedocs.io/en/stable/examples/index.html"
   ]
  },
  {
   "cell_type": "code",
   "execution_count": null,
   "metadata": {
    "application/vnd.databricks.v1+cell": {
     "cellMetadata": {
      "byteLimit": 2048000,
      "rowLimit": 10000
     },
     "inputWidgets": {},
     "nuid": "f4de04de-780d-4541-9365-5b03bcee1aab",
     "showTitle": false,
     "title": ""
    }
   },
   "outputs": [
    {
     "name": "stdout",
     "output_type": "stream",
     "text": [
      "Python interpreter will be restarted.\n",
      "Collecting pymongo\n",
      "  Downloading pymongo-4.7.1-cp39-cp39-manylinux_2_17_x86_64.manylinux2014_x86_64.whl (669 kB)\n",
      "Collecting dnspython<3.0.0,>=1.16.0\n",
      "  Downloading dnspython-2.6.1-py3-none-any.whl (307 kB)\n",
      "Installing collected packages: dnspython, pymongo\n",
      "Successfully installed dnspython-2.6.1 pymongo-4.7.1\n",
      "Python interpreter will be restarted.\n"
     ]
    }
   ],
   "source": [
    "pip install pymongo"
   ]
  },
  {
   "cell_type": "code",
   "execution_count": null,
   "metadata": {
    "application/vnd.databricks.v1+cell": {
     "cellMetadata": {
      "byteLimit": 2048000,
      "rowLimit": 10000
     },
     "inputWidgets": {},
     "nuid": "bb1567e4-9587-402b-b54b-e211fe72682e",
     "showTitle": false,
     "title": ""
    }
   },
   "outputs": [
    {
     "name": "stdout",
     "output_type": "stream",
     "text": [
      "Database(MongoClient(host=['ac-al0btae-shard-00-01.tendsox.mongodb.net:27017', 'ac-al0btae-shard-00-02.tendsox.mongodb.net:27017', 'ac-al0btae-shard-00-00.tendsox.mongodb.net:27017'], document_class=dict, tz_aware=False, connect=True, authsource='admin', replicaset='atlas-r4x5r8-shard-0', tls=True), 'user_shopping_list')\n",
      "{'_id': 'U1IT00001', 'item_name': 'Blender', 'max_discount': '10%', 'batch_number': 'RR450020FRG', 'price': 340, 'category': 'kitchen appliance'}\n",
      "{'_id': 'U1IT00002', 'item_name': 'Egg', 'category': 'food', 'quantity': 12, 'price': 36, 'item_description': 'brown country eggs'}\n"
     ]
    }
   ],
   "source": [
    "from pymongo import MongoClient\n",
    "def get_database():\n",
    " \n",
    "   # Provide the mongodb atlas url to connect python to mongodb using pymongo\n",
    "   CONNECTION_STRING = \"mongodb+srv://admin:<>@cluster0.tendsox.mongodb.net/\"\n",
    " \n",
    "   # Create a connection using MongoClient. You can import MongoClient or use pymongo.MongoClient\n",
    "   client = MongoClient(CONNECTION_STRING)\n",
    " \n",
    "   # Create the database for our example (we will use the same database throughout the tutorial\n",
    "   return client['user_shopping_list']\n",
    "\n",
    "# This is added so that many files can reuse the function get_database()\n",
    "if __name__ == \"__main__\":   \n",
    "  \n",
    "   # Get the database\n",
    "    dbname = get_database()\n",
    "    print(dbname)\n",
    "\n",
    "    collection_name = dbname[\"user_1_items\"]\n",
    "\n",
    "    # item_1 = {\n",
    "    #     \"_id\" : \"U1IT00001\",\n",
    "    #     \"item_name\" : \"Blender\",\n",
    "    #     \"max_discount\" : \"10%\",\n",
    "    #     \"batch_number\" : \"RR450020FRG\",\n",
    "    #     \"price\" : 340,\n",
    "    #     \"category\" : \"kitchen appliance\"\n",
    "    # }\n",
    "\n",
    "    # item_2 = {\n",
    "    #     \"_id\" : \"U1IT00002\",\n",
    "    #     \"item_name\" : \"Egg\",\n",
    "    #     \"category\" : \"food\",\n",
    "    #     \"quantity\" : 12,\n",
    "    #     \"price\" : 36,\n",
    "    #     \"item_description\" : \"brown country eggs\"\n",
    "    # }\n",
    "    # collection_name.insert_many([item_1,item_2])\n",
    "\n",
    "    item_details = collection_name.find()\n",
    "    for item in item_details:\n",
    "        print(item)"
   ]
  },
  {
   "cell_type": "code",
   "execution_count": null,
   "metadata": {
    "application/vnd.databricks.v1+cell": {
     "cellMetadata": {
      "byteLimit": 2048000,
      "rowLimit": 10000
     },
     "inputWidgets": {},
     "nuid": "a70851e7-09f3-4b50-a182-599e7b093054",
     "showTitle": false,
     "title": ""
    }
   },
   "outputs": [
    {
     "name": "stdout",
     "output_type": "stream",
     "text": [
      "Out[41]: [ObjectId('66374e4114a85b2fe20827ad'),\n",
      " ObjectId('66374e4114a85b2fe20827ae'),\n",
      " ObjectId('66374e4114a85b2fe20827af'),\n",
      " ObjectId('66374e4114a85b2fe20827b0')]"
     ]
    }
   ],
   "source": [
    "result = dbname.things.insert_many(\n",
    "    [\n",
    "        {\"x\": 1, \"tags\": [\"dog\", \"cat\"]},\n",
    "        {\"x\": 2, \"tags\": [\"cat\"]},\n",
    "        {\"x\": 2, \"tags\": [\"mouse\", \"cat\", \"dog\"]},\n",
    "        {\"x\": 3, \"tags\": []},\n",
    "    ]\n",
    ")\n",
    "result.inserted_ids"
   ]
  },
  {
   "cell_type": "code",
   "execution_count": null,
   "metadata": {
    "application/vnd.databricks.v1+cell": {
     "cellMetadata": {
      "byteLimit": 2048000,
      "rowLimit": 10000
     },
     "inputWidgets": {},
     "nuid": "cb3b1440-6f77-4002-9e8d-d897379caac3",
     "showTitle": false,
     "title": ""
    }
   },
   "outputs": [],
   "source": [
    "import psycopg2\n",
    "\n",
    "conn = psycopg2.connect('host=hoopa-postgres-hoopaunbounded.c.aivencloud.com port=18813 dbname=defaultdb user=avnadmin password=<> target_session_attrs=read-write')"
   ]
  },
  {
   "cell_type": "code",
   "execution_count": null,
   "metadata": {
    "application/vnd.databricks.v1+cell": {
     "cellMetadata": {
      "byteLimit": 2048000,
      "rowLimit": 10000
     },
     "inputWidgets": {},
     "nuid": "b1f578a1-45d1-42f7-b697-2de82542c326",
     "showTitle": false,
     "title": ""
    }
   },
   "outputs": [],
   "source": [
    "cur = conn.cursor()\n",
    "\n",
    "cur.execute(\"CREATE TABLE IF NOT EXISTS cities (name varchar(80), location point, population int);\")\n",
    "\n",
    "conn.commit()"
   ]
  },
  {
   "cell_type": "code",
   "execution_count": null,
   "metadata": {
    "application/vnd.databricks.v1+cell": {
     "cellMetadata": {
      "byteLimit": 2048000,
      "rowLimit": 10000
     },
     "inputWidgets": {},
     "nuid": "5833c805-668c-4864-b66c-0fe4f29336ab",
     "showTitle": false,
     "title": ""
    }
   },
   "outputs": [],
   "source": [
    "cur.execute(\"INSERT INTO cities VALUES ('canberra', '(35.3, 149.1)', 395790);\")"
   ]
  },
  {
   "cell_type": "code",
   "execution_count": null,
   "metadata": {
    "application/vnd.databricks.v1+cell": {
     "cellMetadata": {
      "byteLimit": 2048000,
      "rowLimit": 10000
     },
     "inputWidgets": {},
     "nuid": "68b8a45a-e55d-4482-8b88-d01c75990a57",
     "showTitle": false,
     "title": ""
    }
   },
   "outputs": [
    {
     "name": "stdout",
     "output_type": "stream",
     "text": [
      "[('canberra', '(35.3,149.1)', 395790), ('canberra', '(35.3,149.1)', 395790), ('canberra', '(35.3,149.1)', 395790), ('canberra', '(35.3,149.1)', 395790), ('canberra', '(35.3,149.1)', 395790)]\n"
     ]
    }
   ],
   "source": [
    "# Query the database\n",
    "cur.execute(\"SELECT * FROM cities;\")\n",
    "\n",
    "# Retrieve query results as Python objects\n",
    "records = cur.fetchall()\n",
    "print(records)"
   ]
  },
  {
   "cell_type": "code",
   "execution_count": null,
   "metadata": {
    "application/vnd.databricks.v1+cell": {
     "cellMetadata": {
      "byteLimit": 2048000,
      "rowLimit": 10000
     },
     "inputWidgets": {},
     "nuid": "284a8b10-94a3-400b-baa5-1aa59f3a3329",
     "showTitle": false,
     "title": ""
    }
   },
   "outputs": [],
   "source": [
    "cur.close()\n",
    "conn.close()"
   ]
  },
  {
   "cell_type": "code",
   "execution_count": null,
   "metadata": {
    "application/vnd.databricks.v1+cell": {
     "cellMetadata": {},
     "inputWidgets": {},
     "nuid": "c9de6c67-7429-4396-a1ef-5a18db8ef3e3",
     "showTitle": false,
     "title": ""
    }
   },
   "outputs": [],
   "source": []
  }
 ],
 "metadata": {
  "application/vnd.databricks.v1+notebook": {
   "dashboards": [],
   "language": "python",
   "notebookMetadata": {
    "pythonIndentUnit": 4
   },
   "notebookName": "Untitled Notebook 2024-05-05 14:10:28",
   "widgets": {}
  },
  "language_info": {
   "name": "python"
  }
 },
 "nbformat": 4,
 "nbformat_minor": 0
}
